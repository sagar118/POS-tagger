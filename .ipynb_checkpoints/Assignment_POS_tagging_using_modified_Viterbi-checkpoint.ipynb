{
 "cells": [
  {
   "cell_type": "markdown",
   "metadata": {
    "colab_type": "text",
    "id": "HBubELzIaonE"
   },
   "source": [
    "# POS Tagging\n",
    "A Part-Of-Speech Tagger (POS Tagger) is a piece of software that reads text in some language and assigns parts of speech to each word (and other token), such as noun, verb, adjective, etc., "
   ]
  },
  {
   "cell_type": "markdown",
   "metadata": {
    "colab_type": "text",
    "id": "ef3Dzg2oezFE"
   },
   "source": [
    "## POS tagging using modified Viterbi"
   ]
  },
  {
   "cell_type": "markdown",
   "metadata": {
    "colab_type": "text",
    "id": "JpaDMS6dezFK"
   },
   "source": [
    "### Data Preparation"
   ]
  },
  {
   "cell_type": "code",
   "execution_count": 1,
   "metadata": {
    "colab": {},
    "colab_type": "code",
    "id": "GOg2xVglezFN"
   },
   "outputs": [],
   "source": [
    "# Importing libraries\n",
    "\n",
    "import re, time, nltk, random\n",
    "import numpy as np\n",
    "import pandas as pd\n",
    "from collections import Counter\n",
    "import matplotlib.pyplot as plt\n",
    "%matplotlib inline\n",
    "import seaborn as sns\n",
    "from sklearn.model_selection import train_test_split"
   ]
  },
  {
   "cell_type": "code",
   "execution_count": 2,
   "metadata": {
    "colab": {
     "base_uri": "https://localhost:8080/",
     "height": 35
    },
    "colab_type": "code",
    "id": "UepDxZ6HezFY",
    "outputId": "2bd14f3e-6a31-4fe7-9241-6fba8d4bc3d5"
   },
   "outputs": [
    {
     "name": "stdout",
     "output_type": "stream",
     "text": [
      "Length of the dataset:  3914\n"
     ]
    }
   ],
   "source": [
    "# reading the Treebank tagged sentences\n",
    "nltk_data = list(nltk.corpus.treebank.tagged_sents(tagset='universal'))\n",
    "\n",
    "print('Length of the dataset: ', len(nltk_data))"
   ]
  },
  {
   "cell_type": "markdown",
   "metadata": {
    "colab_type": "text",
    "id": "lN8nTL5eezFk"
   },
   "source": [
    "There are 3914 sentences in the whole corpus."
   ]
  },
  {
   "cell_type": "code",
   "execution_count": 3,
   "metadata": {
    "colab": {
     "base_uri": "https://localhost:8080/",
     "height": 586
    },
    "colab_type": "code",
    "id": "wg0YK3f7ezFm",
    "outputId": "7ac3083e-bd2b-4df1-8329-3e196e2c774a"
   },
   "outputs": [
    {
     "data": {
      "text/plain": [
       "[[('Pierre', 'NOUN'),\n",
       "  ('Vinken', 'NOUN'),\n",
       "  (',', '.'),\n",
       "  ('61', 'NUM'),\n",
       "  ('years', 'NOUN'),\n",
       "  ('old', 'ADJ'),\n",
       "  (',', '.'),\n",
       "  ('will', 'VERB'),\n",
       "  ('join', 'VERB'),\n",
       "  ('the', 'DET'),\n",
       "  ('board', 'NOUN'),\n",
       "  ('as', 'ADP'),\n",
       "  ('a', 'DET'),\n",
       "  ('nonexecutive', 'ADJ'),\n",
       "  ('director', 'NOUN'),\n",
       "  ('Nov.', 'NOUN'),\n",
       "  ('29', 'NUM'),\n",
       "  ('.', '.')],\n",
       " [('Mr.', 'NOUN'),\n",
       "  ('Vinken', 'NOUN'),\n",
       "  ('is', 'VERB'),\n",
       "  ('chairman', 'NOUN'),\n",
       "  ('of', 'ADP'),\n",
       "  ('Elsevier', 'NOUN'),\n",
       "  ('N.V.', 'NOUN'),\n",
       "  (',', '.'),\n",
       "  ('the', 'DET'),\n",
       "  ('Dutch', 'NOUN'),\n",
       "  ('publishing', 'VERB'),\n",
       "  ('group', 'NOUN'),\n",
       "  ('.', '.')]]"
      ]
     },
     "execution_count": 3,
     "metadata": {},
     "output_type": "execute_result"
    }
   ],
   "source": [
    "# Let's look at the first two sentences in the corpus\n",
    "nltk_data[0:2]"
   ]
  },
  {
   "cell_type": "code",
   "execution_count": 4,
   "metadata": {
    "colab": {
     "base_uri": "https://localhost:8080/",
     "height": 54
    },
    "colab_type": "code",
    "id": "Im89jY-gezFv",
    "outputId": "bd803e89-c004-45e3-84e1-a64898fe4771"
   },
   "outputs": [
    {
     "name": "stdout",
     "output_type": "stream",
     "text": [
      "Length of Train set:  3718\n",
      "Length of Validation set:  196\n"
     ]
    }
   ],
   "source": [
    "# Splitting into train and validation\n",
    "# Train - 95%\n",
    "# Validation - 5%\n",
    "\n",
    "random.seed(100)\n",
    "train_set, validation_set = train_test_split(nltk_data, test_size=0.05)\n",
    "\n",
    "print('Length of Train set: ', len(train_set))\n",
    "print('Length of Validation set: ', len(validation_set))"
   ]
  },
  {
   "cell_type": "code",
   "execution_count": 5,
   "metadata": {
    "colab": {
     "base_uri": "https://localhost:8080/",
     "height": 54
    },
    "colab_type": "code",
    "id": "Y-DuTMPxezF4",
    "outputId": "d480e410-955f-460f-f29a-193c119f54f3"
   },
   "outputs": [
    {
     "name": "stdout",
     "output_type": "stream",
     "text": [
      "Length of Train tagged set:  95971\n",
      "Length of Validation tagged set:  4705\n"
     ]
    }
   ],
   "source": [
    "# Convert the nested list of (word, tag) to a single list of (word, tag) for train and validation set\n",
    "\n",
    "train_tagged_words = [train_pair for sent in train_set for train_pair in sent]\n",
    "validation_tagged_words = [validation_pair for sent in validation_set for validation_pair in sent]\n",
    "\n",
    "print('Length of Train tagged set: ', len(train_tagged_words))\n",
    "print('Length of Validation tagged set: ', len(validation_tagged_words))"
   ]
  },
  {
   "cell_type": "code",
   "execution_count": 6,
   "metadata": {
    "colab": {
     "base_uri": "https://localhost:8080/",
     "height": 54
    },
    "colab_type": "code",
    "id": "jeuGM4oNezGB",
    "outputId": "f3051214-0746-441d-d053-23000144118d"
   },
   "outputs": [
    {
     "name": "stdout",
     "output_type": "stream",
     "text": [
      "Number of unique words:  12076\n",
      "Number of unique tags:  12\n"
     ]
    }
   ],
   "source": [
    "# Let's look at the number of unique words and tags in train set\n",
    "\n",
    "vocab = set([tup[0] for tup in train_tagged_words])\n",
    "tags = set([tup[1] for tup in train_tagged_words])\n",
    "\n",
    "print('Number of unique words: ', len(vocab))\n",
    "print('Number of unique tags: ', len(tags))"
   ]
  },
  {
   "cell_type": "code",
   "execution_count": 7,
   "metadata": {
    "colab": {
     "base_uri": "https://localhost:8080/",
     "height": 237
    },
    "colab_type": "code",
    "id": "PhERGTU3ezGJ",
    "outputId": "4e8482f8-8f18-4048-ac5d-f5b30d434a21"
   },
   "outputs": [
    {
     "data": {
      "text/plain": [
       "{'.',\n",
       " 'ADJ',\n",
       " 'ADP',\n",
       " 'ADV',\n",
       " 'CONJ',\n",
       " 'DET',\n",
       " 'NOUN',\n",
       " 'NUM',\n",
       " 'PRON',\n",
       " 'PRT',\n",
       " 'VERB',\n",
       " 'X'}"
      ]
     },
     "execution_count": 7,
     "metadata": {},
     "output_type": "execute_result"
    }
   ],
   "source": [
    "# Let's have a look at the tags\n",
    "tags"
   ]
  },
  {
   "cell_type": "code",
   "execution_count": 8,
   "metadata": {
    "colab": {
     "base_uri": "https://localhost:8080/",
     "height": 287
    },
    "colab_type": "code",
    "id": "Nqe7T6PteYkJ",
    "outputId": "093ffbb0-7306-41ab-c044-a01b1334b6f7"
   },
   "outputs": [
    {
     "data": {
      "text/plain": [
       "<matplotlib.axes._subplots.AxesSubplot at 0x1a71ef110f0>"
      ]
     },
     "execution_count": 8,
     "metadata": {},
     "output_type": "execute_result"
    },
    {
     "data": {
      "image/png": "[encoded data removed]",
      "text/plain": [
       "<Figure size 432x288 with 1 Axes>"
      ]
     },
     "metadata": {
      "needs_background": "light"
     },
     "output_type": "display_data"
    }
   ],
   "source": [
    "# Look at the count of each tag in the train set\n",
    "sns.countplot([tup[1] for tup in train_tagged_words])"
   ]
  },
  {
   "cell_type": "markdown",
   "metadata": {
    "colab_type": "text",
    "id": "pQG9Hg2-KYt1"
   },
   "source": [
    "From the above graph it is evident that NOUN is the most common tag."
   ]
  },
  {
   "cell_type": "markdown",
   "metadata": {
    "colab_type": "text",
    "id": "JhX7WzNfezGV"
   },
   "source": [
    "### Build the vanilla Viterbi based POS tagger"
   ]
  },
  {
   "cell_type": "markdown",
   "metadata": {
    "colab_type": "text",
    "id": "9FdLyOdaezGX"
   },
   "source": [
    "#### POS Tagging Algorithm - HMM\n",
    "\n",
    "We'll use the HMM algorithm to tag the words. Given a sequence of words to be tagged, the task is to assign the most probable tag to the word. \n",
    "\n",
    "In other words, to every word w, assign the tag t that maximises the likelihood P(t/w). Since P(t/w) = P(w/t). P(t) / P(w), after ignoring P(w), we have to compute P(w/t) and P(t).\n",
    "\n",
    "\n",
    "P(w/t) is basically the probability that given a tag (say NN), what is the probability of it being w (say 'building'). This can be computed by computing the fraction of all NNs which are equal to w, i.e. \n",
    "\n",
    "P(w/t) = count(w, t) / count(t). \n",
    "\n",
    "\n",
    "The term P(t) is the probability of tag t, and in a tagging task, we assume that a tag will depend only on the previous tag. In other words, the probability of a tag being NN will depend only on the previous tag t(n-1). So for e.g. if t(n-1) is a JJ, then t(n) is likely to be an NN since adjectives often precede a noun (blue coat, tall building etc.).\n",
    "\n",
    "\n",
    "Given the penn treebank tagged dataset, we can compute the two terms P(w/t) and P(t) and store them in two large matrices. The matrix of P(w/t) will be sparse, since each word will not be seen with most tags ever, and those terms will thus be zero. \n"
   ]
  },
  {
   "cell_type": "markdown",
   "metadata": {
    "colab_type": "text",
    "id": "EK6rzHCEezGZ"
   },
   "source": [
    "#### Emission Probabilities\n",
    "The function word_given_tag calculates the number of times the tag appears in the train set and the number of times the particular word for that tag appears. <br>\n",
    "P(w/t) = count(w, t) / count(t)<br>\n",
    "For calculating the above probability the function returns the count(w,t) and count(t)."
   ]
  },
  {
   "cell_type": "code",
   "execution_count": 9,
   "metadata": {
    "colab": {},
    "colab_type": "code",
    "id": "jfzS4auRezGa"
   },
   "outputs": [],
   "source": [
    "# compute word given tag: Emission Probability\n",
    "def word_given_tag(word, tag, train_bag = train_tagged_words):\n",
    "    tag_list = [pair for pair in train_bag if pair[1]==tag]\n",
    "    tag_count = len(tag_list)\n",
    "    w_given_tag_list = [pair[0] for pair in tag_list if pair[0]==word]\n",
    "    w_given_tag_count = len(w_given_tag_list)\n",
    "    \n",
    "    return (w_given_tag_count, tag_count)"
   ]
  },
  {
   "cell_type": "code",
   "execution_count": 10,
   "metadata": {
    "colab": {
     "base_uri": "https://localhost:8080/",
     "height": 127
    },
    "colab_type": "code",
    "id": "shvtUckcezGg",
    "outputId": "65d18f8d-fc24-4cb6-e680-2873607ccd52"
   },
   "outputs": [
    {
     "name": "stdout",
     "output_type": "stream",
     "text": [
      "\n",
      " large\n",
      "(28, 6112)\n",
      "(0, 12922)\n",
      "(0, 27543) \n",
      "\n"
     ]
    }
   ],
   "source": [
    "# examples\n",
    "\n",
    "# large\n",
    "print(\"\\n\", \"large\")\n",
    "print(word_given_tag('large', 'ADJ'))\n",
    "print(word_given_tag('large', 'VERB'))\n",
    "print(word_given_tag('large', 'NOUN'), \"\\n\")"
   ]
  },
  {
   "cell_type": "markdown",
   "metadata": {
    "colab_type": "text",
    "id": "vj4DS2zJezGn"
   },
   "source": [
    "#### Transition Probabilities\n",
    "The below function workinig:\n",
    "1. Save the sequence of tags that appear in the train set i.e. in the tags list\n",
    "2. Count the number of times the tag t1 appears in the train set i.e. t1_count\n",
    "3. Count the number of times the tag t2 has appeared after tag t1 in the train set i.e. t2_t1_count\n",
    "4. Return the t2_t1_count and t1_count \n",
    "\n",
    "From the above values we can calculate the transition probabilities i.e. how likely the tag t2 will appear after the tag t1 <br>\n",
    "i.e. t2_t1_count / t1_count"
   ]
  },
  {
   "cell_type": "code",
   "execution_count": 11,
   "metadata": {
    "colab": {},
    "colab_type": "code",
    "id": "kVWvCyZaezGp"
   },
   "outputs": [],
   "source": [
    "# compute tag given tag: tag2(t2) given tag1 (t1), i.e. Transition Probability\n",
    "\n",
    "def t2_given_t1(t2, t1, train_bag = train_tagged_words):\n",
    "    tags = [pair[1] for pair in train_bag]\n",
    "    t1_count = len([t for t in tags if t==t1])\n",
    "    t2_t1_count = 0\n",
    "    for index in range(len(tags)-1):\n",
    "        if tags[index]==t1 and tags[index+1]==t2:\n",
    "            t2_t1_count += 1\n",
    "    \n",
    "    return (t2_t1_count, t1_count)"
   ]
  },
  {
   "cell_type": "code",
   "execution_count": 12,
   "metadata": {
    "colab": {
     "base_uri": "https://localhost:8080/",
     "height": 90
    },
    "colab_type": "code",
    "id": "fMejYmJaezGu",
    "outputId": "a3bba716-72f7-4fd0-c508-63b6c05f975a"
   },
   "outputs": [
    {
     "name": "stdout",
     "output_type": "stream",
     "text": [
      "(4, 6112)\n",
      "(4267, 6112)\n",
      "(5302, 8315)\n",
      "(454, 12922)\n"
     ]
    }
   ],
   "source": [
    "# examples\n",
    "\n",
    "print(t2_given_t1(t2='PRON', t1='ADJ'))\n",
    "print(t2_given_t1('NOUN', 'ADJ'))\n",
    "print(t2_given_t1('NOUN', 'DET'))\n",
    "print(t2_given_t1('PRON', 'VERB'))"
   ]
  },
  {
   "cell_type": "code",
   "execution_count": 13,
   "metadata": {
    "colab": {},
    "colab_type": "code",
    "id": "HBG4loIsezG1"
   },
   "outputs": [],
   "source": [
    "# creating t x t transition matrix of tags\n",
    "# each column is t2, each row is t1\n",
    "# thus M(i, j) represents P(tj given ti)\n",
    "\n",
    "tags_matrix = np.zeros((len(tags), len(tags)), dtype='float32')\n",
    "for i, t1 in enumerate(list(tags)):\n",
    "    for j, t2 in enumerate(list(tags)): \n",
    "        tags_matrix[i, j] = t2_given_t1(t2, t1)[0]/t2_given_t1(t2, t1)[1]"
   ]
  },
  {
   "cell_type": "code",
   "execution_count": 14,
   "metadata": {
    "colab": {},
    "colab_type": "code",
    "id": "xRhnHFH2ezG6"
   },
   "outputs": [],
   "source": [
    "# convert the matrix to a df for better readability\n",
    "tags_df = pd.DataFrame(tags_matrix, columns = list(tags), index=list(tags))"
   ]
  },
  {
   "cell_type": "code",
   "execution_count": 15,
   "metadata": {
    "colab": {
     "base_uri": "https://localhost:8080/",
     "height": 426
    },
    "colab_type": "code",
    "id": "8zoVIJpRezHD",
    "outputId": "6b6f414d-616f-4677-ca28-5330fdf576bb"
   },
   "outputs": [
    {
     "data": {
      "text/html": [
       "<div>\n",
       "<style scoped>\n",
       "    .dataframe tbody tr th:only-of-type {\n",
       "        vertical-align: middle;\n",
       "    }\n",
       "\n",
       "    .dataframe tbody tr th {\n",
       "        vertical-align: top;\n",
       "    }\n",
       "\n",
       "    .dataframe thead th {\n",
       "        text-align: right;\n",
       "    }\n",
       "</style>\n",
       "<table border=\"1\" class=\"dataframe\">\n",
       "  <thead>\n",
       "    <tr style=\"text-align: right;\">\n",
       "      <th></th>\n",
       "      <th>ADV</th>\n",
       "      <th>NOUN</th>\n",
       "      <th>X</th>\n",
       "      <th>.</th>\n",
       "      <th>PRON</th>\n",
       "      <th>ADP</th>\n",
       "      <th>PRT</th>\n",
       "      <th>VERB</th>\n",
       "      <th>DET</th>\n",
       "      <th>NUM</th>\n",
       "      <th>CONJ</th>\n",
       "      <th>ADJ</th>\n",
       "    </tr>\n",
       "  </thead>\n",
       "  <tbody>\n",
       "    <tr>\n",
       "      <th>ADV</th>\n",
       "      <td>0.079669</td>\n",
       "      <td>0.031736</td>\n",
       "      <td>0.022810</td>\n",
       "      <td>0.135537</td>\n",
       "      <td>0.014876</td>\n",
       "      <td>0.119669</td>\n",
       "      <td>0.014545</td>\n",
       "      <td>0.345124</td>\n",
       "      <td>0.069091</td>\n",
       "      <td>0.031736</td>\n",
       "      <td>0.006281</td>\n",
       "      <td>0.128926</td>\n",
       "    </tr>\n",
       "    <tr>\n",
       "      <th>NOUN</th>\n",
       "      <td>0.016810</td>\n",
       "      <td>0.264496</td>\n",
       "      <td>0.029082</td>\n",
       "      <td>0.239153</td>\n",
       "      <td>0.004684</td>\n",
       "      <td>0.176923</td>\n",
       "      <td>0.044185</td>\n",
       "      <td>0.146970</td>\n",
       "      <td>0.013252</td>\n",
       "      <td>0.009476</td>\n",
       "      <td>0.042806</td>\n",
       "      <td>0.012163</td>\n",
       "    </tr>\n",
       "    <tr>\n",
       "      <th>X</th>\n",
       "      <td>0.026073</td>\n",
       "      <td>0.062321</td>\n",
       "      <td>0.074881</td>\n",
       "      <td>0.162639</td>\n",
       "      <td>0.056598</td>\n",
       "      <td>0.146582</td>\n",
       "      <td>0.182671</td>\n",
       "      <td>0.205087</td>\n",
       "      <td>0.053577</td>\n",
       "      <td>0.002703</td>\n",
       "      <td>0.009857</td>\n",
       "      <td>0.017011</td>\n",
       "    </tr>\n",
       "    <tr>\n",
       "      <th>.</th>\n",
       "      <td>0.053252</td>\n",
       "      <td>0.220563</td>\n",
       "      <td>0.027525</td>\n",
       "      <td>0.091302</td>\n",
       "      <td>0.065935</td>\n",
       "      <td>0.092201</td>\n",
       "      <td>0.002519</td>\n",
       "      <td>0.089772</td>\n",
       "      <td>0.173788</td>\n",
       "      <td>0.080237</td>\n",
       "      <td>0.058109</td>\n",
       "      <td>0.044706</td>\n",
       "    </tr>\n",
       "    <tr>\n",
       "      <th>PRON</th>\n",
       "      <td>0.034866</td>\n",
       "      <td>0.211111</td>\n",
       "      <td>0.092337</td>\n",
       "      <td>0.041762</td>\n",
       "      <td>0.007280</td>\n",
       "      <td>0.022605</td>\n",
       "      <td>0.012261</td>\n",
       "      <td>0.484291</td>\n",
       "      <td>0.009579</td>\n",
       "      <td>0.006897</td>\n",
       "      <td>0.005364</td>\n",
       "      <td>0.071648</td>\n",
       "    </tr>\n",
       "    <tr>\n",
       "      <th>ADP</th>\n",
       "      <td>0.013652</td>\n",
       "      <td>0.322680</td>\n",
       "      <td>0.035348</td>\n",
       "      <td>0.039898</td>\n",
       "      <td>0.069002</td>\n",
       "      <td>0.017145</td>\n",
       "      <td>0.001482</td>\n",
       "      <td>0.008361</td>\n",
       "      <td>0.322680</td>\n",
       "      <td>0.062546</td>\n",
       "      <td>0.000741</td>\n",
       "      <td>0.106466</td>\n",
       "    </tr>\n",
       "    <tr>\n",
       "      <th>PRT</th>\n",
       "      <td>0.010124</td>\n",
       "      <td>0.249837</td>\n",
       "      <td>0.013717</td>\n",
       "      <td>0.043436</td>\n",
       "      <td>0.017962</td>\n",
       "      <td>0.019595</td>\n",
       "      <td>0.001960</td>\n",
       "      <td>0.398432</td>\n",
       "      <td>0.102221</td>\n",
       "      <td>0.056499</td>\n",
       "      <td>0.002286</td>\n",
       "      <td>0.083932</td>\n",
       "    </tr>\n",
       "    <tr>\n",
       "      <th>VERB</th>\n",
       "      <td>0.081412</td>\n",
       "      <td>0.110277</td>\n",
       "      <td>0.217691</td>\n",
       "      <td>0.034283</td>\n",
       "      <td>0.035134</td>\n",
       "      <td>0.092246</td>\n",
       "      <td>0.031187</td>\n",
       "      <td>0.169014</td>\n",
       "      <td>0.134190</td>\n",
       "      <td>0.023061</td>\n",
       "      <td>0.005340</td>\n",
       "      <td>0.066166</td>\n",
       "    </tr>\n",
       "    <tr>\n",
       "      <th>DET</th>\n",
       "      <td>0.012748</td>\n",
       "      <td>0.637643</td>\n",
       "      <td>0.045580</td>\n",
       "      <td>0.017679</td>\n",
       "      <td>0.003728</td>\n",
       "      <td>0.009501</td>\n",
       "      <td>0.000241</td>\n",
       "      <td>0.039206</td>\n",
       "      <td>0.005532</td>\n",
       "      <td>0.022249</td>\n",
       "      <td>0.000361</td>\n",
       "      <td>0.205532</td>\n",
       "    </tr>\n",
       "    <tr>\n",
       "      <th>NUM</th>\n",
       "      <td>0.002968</td>\n",
       "      <td>0.356189</td>\n",
       "      <td>0.205996</td>\n",
       "      <td>0.117839</td>\n",
       "      <td>0.001484</td>\n",
       "      <td>0.035322</td>\n",
       "      <td>0.026714</td>\n",
       "      <td>0.018106</td>\n",
       "      <td>0.003265</td>\n",
       "      <td>0.184921</td>\n",
       "      <td>0.013951</td>\n",
       "      <td>0.033244</td>\n",
       "    </tr>\n",
       "    <tr>\n",
       "      <th>CONJ</th>\n",
       "      <td>0.054706</td>\n",
       "      <td>0.351878</td>\n",
       "      <td>0.006954</td>\n",
       "      <td>0.036161</td>\n",
       "      <td>0.058878</td>\n",
       "      <td>0.052388</td>\n",
       "      <td>0.005100</td>\n",
       "      <td>0.155772</td>\n",
       "      <td>0.121929</td>\n",
       "      <td>0.039870</td>\n",
       "      <td>0.000000</td>\n",
       "      <td>0.116365</td>\n",
       "    </tr>\n",
       "    <tr>\n",
       "      <th>ADJ</th>\n",
       "      <td>0.004581</td>\n",
       "      <td>0.698135</td>\n",
       "      <td>0.020452</td>\n",
       "      <td>0.065118</td>\n",
       "      <td>0.000654</td>\n",
       "      <td>0.079025</td>\n",
       "      <td>0.010798</td>\n",
       "      <td>0.011780</td>\n",
       "      <td>0.005072</td>\n",
       "      <td>0.021106</td>\n",
       "      <td>0.017016</td>\n",
       "      <td>0.066263</td>\n",
       "    </tr>\n",
       "  </tbody>\n",
       "</table>\n",
       "</div>"
      ],
      "text/plain": [
       "           ADV      NOUN         X         .      PRON       ADP       PRT  \\\n",
       "ADV   0.079669  0.031736  0.022810  0.135537  0.014876  0.119669  0.014545   \n",
       "NOUN  0.016810  0.264496  0.029082  0.239153  0.004684  0.176923  0.044185   \n",
       "X     0.026073  0.062321  0.074881  0.162639  0.056598  0.146582  0.182671   \n",
       ".     0.053252  0.220563  0.027525  0.091302  0.065935  0.092201  0.002519   \n",
       "PRON  0.034866  0.211111  0.092337  0.041762  0.007280  0.022605  0.012261   \n",
       "ADP   0.013652  0.322680  0.035348  0.039898  0.069002  0.017145  0.001482   \n",
       "PRT   0.010124  0.249837  0.013717  0.043436  0.017962  0.019595  0.001960   \n",
       "VERB  0.081412  0.110277  0.217691  0.034283  0.035134  0.092246  0.031187   \n",
       "DET   0.012748  0.637643  0.045580  0.017679  0.003728  0.009501  0.000241   \n",
       "NUM   0.002968  0.356189  0.205996  0.117839  0.001484  0.035322  0.026714   \n",
       "CONJ  0.054706  0.351878  0.006954  0.036161  0.058878  0.052388  0.005100   \n",
       "ADJ   0.004581  0.698135  0.020452  0.065118  0.000654  0.079025  0.010798   \n",
       "\n",
       "          VERB       DET       NUM      CONJ       ADJ  \n",
       "ADV   0.345124  0.069091  0.031736  0.006281  0.128926  \n",
       "NOUN  0.146970  0.013252  0.009476  0.042806  0.012163  \n",
       "X     0.205087  0.053577  0.002703  0.009857  0.017011  \n",
       ".     0.089772  0.173788  0.080237  0.058109  0.044706  \n",
       "PRON  0.484291  0.009579  0.006897  0.005364  0.071648  \n",
       "ADP   0.008361  0.322680  0.062546  0.000741  0.106466  \n",
       "PRT   0.398432  0.102221  0.056499  0.002286  0.083932  \n",
       "VERB  0.169014  0.134190  0.023061  0.005340  0.066166  \n",
       "DET   0.039206  0.005532  0.022249  0.000361  0.205532  \n",
       "NUM   0.018106  0.003265  0.184921  0.013951  0.033244  \n",
       "CONJ  0.155772  0.121929  0.039870  0.000000  0.116365  \n",
       "ADJ   0.011780  0.005072  0.021106  0.017016  0.066263  "
      ]
     },
     "execution_count": 15,
     "metadata": {},
     "output_type": "execute_result"
    }
   ],
   "source": [
    "tags_df"
   ]
  },
  {
   "cell_type": "code",
   "execution_count": 16,
   "metadata": {
    "colab": {
     "base_uri": "https://localhost:8080/",
     "height": 704
    },
    "colab_type": "code",
    "id": "05Hqj287c8Sv",
    "outputId": "4304f8df-1cdb-425f-86b9-051cb6aad8e5"
   },
   "outputs": [
    {
     "data": {
      "image/png": "[encoded data removed]",
      "text/plain": [
       "<Figure size 1296x864 with 2 Axes>"
      ]
     },
     "metadata": {
      "needs_background": "light"
     },
     "output_type": "display_data"
    }
   ],
   "source": [
    "# heatmap of tags matrix\n",
    "# T(i, j) means P(tag j given tag i)\n",
    "plt.figure(figsize=(18, 12))\n",
    "sns.heatmap(tags_df)\n",
    "plt.show()"
   ]
  },
  {
   "cell_type": "markdown",
   "metadata": {},
   "source": [
    "The above headmap shows us that DET and NOUN, ADJ and NOUN, VERB and PRT, VERB and PRON shows good correlation."
   ]
  },
  {
   "cell_type": "markdown",
   "metadata": {
    "colab_type": "text",
    "id": "YnVJ9NiMezHK"
   },
   "source": [
    "### Viterbi Algorithm\n",
    "\n",
    "Let's now use the computed probabilities P(w, tag) and P(t2, t1) to assign tags to each word in the document. We'll run through each word w and compute P(tag/w)=P(w/tag).P(tag) for each tag in the tag set, and then assign the tag having the max P(tag/w).\n",
    "\n",
    "We'll store the assigned tags in a list of tuples, similar to the list 'train_tagged_words'. Each tuple will be a (token, assigned_tag). As we progress further in the list, each tag to be assigned will use the tag of the previous token.\n",
    "\n",
    "Note: P(tag|start) = P(tag|'.') "
   ]
  },
  {
   "cell_type": "code",
   "execution_count": 17,
   "metadata": {
    "colab": {},
    "colab_type": "code",
    "id": "La5pGQLUezHM"
   },
   "outputs": [],
   "source": [
    "# Viterbi Heuristic\n",
    "def Viterbi(words, train_bag = train_tagged_words):\n",
    "    state = []\n",
    "    T = list(set([pair[1] for pair in train_bag]))\n",
    "    \n",
    "    for key, word in enumerate(words):\n",
    "        #initialise list of probability column for a given observation\n",
    "        p = [] \n",
    "        for tag in T:\n",
    "            if key == 0:\n",
    "                transition_p = tags_df.loc['.', tag]\n",
    "            else:\n",
    "                transition_p = tags_df.loc[state[-1], tag]\n",
    "                \n",
    "            # compute emission and state probabilities\n",
    "            emission = word_given_tag(words[key], tag)\n",
    "            emission_p = emission[0] / emission[1]\n",
    "            state_probability = emission_p * transition_p    \n",
    "            p.append(state_probability)\n",
    "            \n",
    "        pmax = max(p)\n",
    "        # getting state for which probability is maximum\n",
    "        state_max = T[p.index(pmax)] \n",
    "        state.append(state_max)\n",
    "    return list(zip(words, state))"
   ]
  },
  {
   "cell_type": "markdown",
   "metadata": {
    "colab_type": "text",
    "id": "3pJSw1JMezHR"
   },
   "source": [
    "### Evaluating on Test Set"
   ]
  },
  {
   "cell_type": "code",
   "execution_count": 18,
   "metadata": {
    "colab": {},
    "colab_type": "code",
    "id": "EGsHCCj5SV9C"
   },
   "outputs": [],
   "source": [
    "# Create the list of words that are in the test set\n",
    "validation_words = [tup[0] for tup in validation_tagged_words]"
   ]
  },
  {
   "cell_type": "code",
   "execution_count": null,
   "metadata": {
    "colab": {},
    "colab_type": "code",
    "id": "ykW1846lezHT"
   },
   "outputs": [],
   "source": [
    "# tagging the test sentences\n",
    "\n",
    "start = time.time()\n",
    "vanilla_tagged_seq = Viterbi(validation_words)\n",
    "end = time.time()\n",
    "difference = end-start"
   ]
  },
  {
   "cell_type": "code",
   "execution_count": null,
   "metadata": {
    "colab": {
     "base_uri": "https://localhost:8080/",
     "height": 35
    },
    "colab_type": "code",
    "id": "7d7W5t-MezHY",
    "outputId": "1646d8a1-b0f2-41b7-e695-454f1223dd0c"
   },
   "outputs": [],
   "source": [
    "print(\"Time taken in seconds: \", difference)"
   ]
  },
  {
   "cell_type": "code",
   "execution_count": null,
   "metadata": {
    "colab": {
     "base_uri": "https://localhost:8080/",
     "height": 35
    },
    "colab_type": "code",
    "id": "-XELgmO9ezHd",
    "outputId": "3fd1c599-a068-4d64-acb5-d56bf44a6fe6"
   },
   "outputs": [],
   "source": [
    "# accuracy\n",
    "check = [i for i, j in zip(vanilla_tagged_seq, validation_tagged_words) if i == j]\n",
    "vanilla_accuracy = len(check)/len(vanilla_tagged_seq)\n",
    "round(vanilla_accuracy, 4)*100"
   ]
  },
  {
   "cell_type": "code",
   "execution_count": null,
   "metadata": {
    "colab": {},
    "colab_type": "code",
    "id": "VZFu_wMkezHv"
   },
   "outputs": [],
   "source": [
    "# Find all the incorrect tagged words\n",
    "vanilla_incorrect_tagged_cases = [[validation_tagged_words[i-1],j] for i, j in enumerate(zip(vanilla_tagged_seq, validation_tagged_words)) if j[0]!=j[1]]"
   ]
  },
  {
   "cell_type": "code",
   "execution_count": null,
   "metadata": {
    "colab": {
     "base_uri": "https://localhost:8080/",
     "height": 1000
    },
    "colab_type": "code",
    "id": "1kQ5QXhUezHz",
    "outputId": "5710faf9-22ba-4e03-db0a-c966da417a86"
   },
   "outputs": [],
   "source": [
    "# Print the incorrect tagged words\n",
    "vanilla_incorrect_tagged_cases"
   ]
  },
  {
   "cell_type": "markdown",
   "metadata": {
    "colab_type": "text",
    "id": "MqWa7K9m0yaP"
   },
   "source": [
    "Let's take a look at few of the words that were incorrectly tagged with the vanilla viterbi algorithm. <br>\n",
    "1. [('index', 'NOUN'), (('3436.58', 'X'), ('3436.58', 'NUM'))] - Numbers are tagged to X instead of NUM\n",
    "2. [('*', 'X'), (('attracting', 'X'), ('attracting', 'VERB'))] - attracting is tagged as X instead of VERB\n",
    "3. [('to', 'PRT'), (('locally', 'X'), ('locally', 'ADV'))] - locally is tagged as X instead of ADV \n",
    "4. [('``', '.'), (('deplorable', 'X'), ('deplorable', 'ADJ'))] - deplorable as X instead of ADJ\n",
    "\n",
    "and so on.\n",
    "\n",
    "There are many words that are incorrectly tagged which can be tagged easily using a regex tagger using the common suffixes such as -ing for VERB, -able for ADJ, and so on.\n",
    "\n",
    "Identifying numbers can also be easily done using regex which were incorrectly tagged using the vanilla viterbi algorithm."
   ]
  },
  {
   "cell_type": "markdown",
   "metadata": {
    "colab_type": "text",
    "id": "t6m_0FPeezIC"
   },
   "source": [
    "### Solve the problem of unknown words"
   ]
  },
  {
   "cell_type": "markdown",
   "metadata": {
    "colab_type": "text",
    "id": "lfydFX5Pphxl"
   },
   "source": [
    "#### 1. Using RegexpTagger"
   ]
  },
  {
   "cell_type": "code",
   "execution_count": null,
   "metadata": {
    "colab": {},
    "colab_type": "code",
    "id": "F3OIuZDixXW5"
   },
   "outputs": [],
   "source": [
    "# Function that takes a word as input and returns the tag based on the patterns using regular expression\n",
    "# If none of the patterns match then tag that word as NOUN since it is the most common tag in the corpus\n",
    "\n",
    "def regex(word):\n",
    "    # specify patterns for tagging\n",
    "    patterns = [\n",
    "      (r'\\d+.?\\d*', 'NUM'),\n",
    "      (r'\\d+-\\d+', 'NUM'),\n",
    "      (r'\\d+(st|nd|rd)', 'NUM'),\n",
    "      (r'\\*.*\\d{1,3}', 'X'),\n",
    "      (r'(,|\\.|\\'\\'|--|``|:|\\?|-LRB-|-RRB-|#|;|@)', '.'),\n",
    "      (r'.*(ible|able|al|ful|ic|ive|ous|less)$', 'ADJ'),\n",
    "      (r'.*(ward|ly|wise|wards)$', 'ADV'),\n",
    "      (r'.*(ate|ing|en|ify|ise|ize|ed)$', 'VERB'),\n",
    "      (r'.*(sion|tion|xion|ship|ry|ness|ment|ity|ty|ist|ism|hood|er|or|ee|dom|ance|ence|al|age|s)$', 'NOUN'),\n",
    "      (r'.*', 'NOUN')\n",
    "      ]\n",
    "    \n",
    "    regex_tagger = nltk.RegexpTagger(patterns)\n",
    "    tag = regex_tagger.tag([word])\n",
    "    return tag[0][1]"
   ]
  },
  {
   "cell_type": "markdown",
   "metadata": {
    "colab_type": "text",
    "id": "5726STeJ5FFm"
   },
   "source": [
    "The vanilla viterbi algorithms fails when the word is not present in the trained set that is to be tagged. This is due to fact that emission probability of the word is zero.\n",
    "\n",
    "To solve this issue we will use a RegexpTagger to identify whether a word is VERB, NOUN, NUM, and so on.\n",
    "\n",
    "The below algorithm is modified by checking whether the state_probability calculated for all the tag results in zero or not i.e. if the word is not present in the train set then the emission probability is zero that would result in zero for all the tags while calculating the state_probability.\n",
    "\n",
    "Hence check if the state_probability for all the tag is zero (i.e. p would contain only 0 for all the tags. Therefore check if sum(p) is zero or not) then call the 'regex' function defined above to tag the word based on the patterns identified; or else if the word is present in the train set then emission probability will not result in zero for atleast one tag and hence tag the word based on the most likely tag suited for that word."
   ]
  },
  {
   "cell_type": "code",
   "execution_count": null,
   "metadata": {
    "colab": {},
    "colab_type": "code",
    "id": "b9AgXj6kezIE"
   },
   "outputs": [],
   "source": [
    "# Viterbi Heuristic\n",
    "def Viterbi_with_regex(words, train_bag = train_tagged_words):\n",
    "    state = []\n",
    "    T = list(set([pair[1] for pair in train_bag]))\n",
    "    \n",
    "    for key, word in enumerate(words):\n",
    "        #initialise list of probability column for a given observation\n",
    "        p = [] \n",
    "        for tag in T:\n",
    "            if key == 0:\n",
    "                transition_p = tags_df.loc['.', tag]\n",
    "            else:\n",
    "                transition_p = tags_df.loc[state[-1], tag]\n",
    "                \n",
    "            # compute emission and state probabilities\n",
    "            emission = word_given_tag(words[key], tag)\n",
    "            emission_p = emission[0] / emission[1]\n",
    "            state_probability = emission_p * transition_p    \n",
    "            p.append(state_probability)\n",
    "        \n",
    "        # Modifying the algorithm:\n",
    "        # If the word is not present in the train set then the state_probability\n",
    "        # for all the tags will be zero and hence the p list will contains only \n",
    "        # zero for all tags.\n",
    "        # Check whether the state_probability is zero for all the tags for not i.e. word not present\n",
    "        # If the sum of p is not zero i.e. the word is present in the train set\n",
    "        # then tag the word based on the most likely tag for the word\n",
    "        if sum(p) != 0: \n",
    "            pmax = max(p)\n",
    "            # getting state for which probability is maximum\n",
    "            state_max = T[p.index(pmax)] \n",
    "            state.append(state_max)\n",
    "          \n",
    "        # else if the word is not present in the corpus then use the RegexpTagger to\n",
    "        # tag the word. For this all the previously made function 'regex'\n",
    "        else: \n",
    "            state.append(regex(word))\n",
    "    return list(zip(words, state))"
   ]
  },
  {
   "cell_type": "markdown",
   "metadata": {
    "colab_type": "text",
    "id": "XMOoKyyzezIN"
   },
   "source": [
    "#### Evaluating tagging accuracy of Viterbi algorithm modified using RegexpTagger"
   ]
  },
  {
   "cell_type": "code",
   "execution_count": null,
   "metadata": {
    "colab": {},
    "colab_type": "code",
    "id": "X9PHOaPpezII"
   },
   "outputs": [],
   "source": [
    "# tagging the test sentences\n",
    "\n",
    "start = time.time()\n",
    "regex_tagged_seq = Viterbi_with_regex(validation_words)\n",
    "end = time.time()\n",
    "difference = end-start"
   ]
  },
  {
   "cell_type": "code",
   "execution_count": null,
   "metadata": {
    "colab": {
     "base_uri": "https://localhost:8080/",
     "height": 35
    },
    "colab_type": "code",
    "id": "_V989srksOvP",
    "outputId": "81fad70f-076b-458d-e7d0-46d8415074cf"
   },
   "outputs": [],
   "source": [
    "print(\"Time taken in seconds: \", difference)"
   ]
  },
  {
   "cell_type": "code",
   "execution_count": null,
   "metadata": {
    "colab": {
     "base_uri": "https://localhost:8080/",
     "height": 35
    },
    "colab_type": "code",
    "id": "-MGjz2insOvk",
    "outputId": "d3388191-f6a3-4e5a-a723-fef99ee20e9c"
   },
   "outputs": [],
   "source": [
    "# Accuracy\n",
    "check = [i for i, j in zip(regex_tagged_seq, validation_tagged_words) if i == j]\n",
    "regex_accuracy = len(check)/len(regex_tagged_seq)\n",
    "round(regex_accuracy, 4)*100"
   ]
  },
  {
   "cell_type": "code",
   "execution_count": null,
   "metadata": {
    "colab": {},
    "colab_type": "code",
    "id": "eF1qjqufsOvy"
   },
   "outputs": [],
   "source": [
    "# Find all the incorrect tagged words\n",
    "regex_incorrect_tagged_cases = [[validation_tagged_words[i-1],j] for i, j in enumerate(zip(regex_tagged_seq, validation_tagged_words)) if j[0]!=j[1]]"
   ]
  },
  {
   "cell_type": "code",
   "execution_count": null,
   "metadata": {
    "colab": {
     "base_uri": "https://localhost:8080/",
     "height": 1000
    },
    "colab_type": "code",
    "id": "pOi-S9oRsOv3",
    "outputId": "45c55fea-cc85-4302-f0da-624015a70218"
   },
   "outputs": [],
   "source": [
    "# Print the incorrect tagged words\n",
    "regex_incorrect_tagged_cases"
   ]
  },
  {
   "cell_type": "markdown",
   "metadata": {
    "colab_type": "text",
    "id": "O60hFF63ezIQ"
   },
   "source": [
    "#### 2. Using lexicon based approach"
   ]
  },
  {
   "cell_type": "code",
   "execution_count": null,
   "metadata": {
    "colab": {},
    "colab_type": "code",
    "id": "g53QZT5cp2jj"
   },
   "outputs": [],
   "source": [
    "# The below function given a word uses the BigramTagger first to tag the word\n",
    "# If that fails then it is backoffed to UnigramTagger and even if that fails\n",
    "# then it is backoffed to DefaultTagger that tags the word as NOUN since that\n",
    "# is the most common tag in the corpus.\n",
    "\n",
    "# The function returns the tag for the given word.\n",
    "def lexicon(word):\n",
    "    default = nltk.DefaultTagger('NOUN')\n",
    "    unigram = nltk.UnigramTagger(train_set, backoff=default)\n",
    "    bigram = nltk.BigramTagger(train_set, backoff=unigram)\n",
    "\n",
    "    tag = bigram.tag([word])\n",
    "    return tag[0][1]"
   ]
  },
  {
   "cell_type": "markdown",
   "metadata": {
    "colab_type": "text",
    "id": "7R7ztFN2kZI3"
   },
   "source": [
    "Another approach to solve same issue we will use a lexicon tagger to identify whether a word is VERB, NOUN, NUM, and so on.\n",
    "\n",
    "The below algorithm is modified by checking whether the state_probability calculated for all the tag results in zero or not i.e. if the word is not present in the train set then the emission probability is zero that would result in zero for all the tags while calculating the state_probability.\n",
    "\n",
    "Hence check if the state_probability for all the tag is zero (i.e. p would contain only 0 for all the tags. Therefore check if sum(p) is zero or not) then call the 'lexicon' function defined above to tag the word based on the patterns identified; or else if the word is present in the train set then emission probability will not result in zero for atleast one tag and hence tag the word based on the most likely tag suited for that word."
   ]
  },
  {
   "cell_type": "code",
   "execution_count": null,
   "metadata": {
    "colab": {},
    "colab_type": "code",
    "id": "C-C4bh6gp2ft"
   },
   "outputs": [],
   "source": [
    "# Viterbi Heuristic\n",
    "def Viterbi_with_lexicon(words, train_bag = train_tagged_words):\n",
    "    state = []\n",
    "    T = list(set([pair[1] for pair in train_bag]))\n",
    "    \n",
    "    for key, word in enumerate(words):\n",
    "        #initialise list of probability column for a given observation\n",
    "        p = [] \n",
    "        for tag in T:\n",
    "            if key == 0:\n",
    "                transition_p = tags_df.loc['.', tag]\n",
    "            else:\n",
    "                transition_p = tags_df.loc[state[-1], tag]\n",
    "                \n",
    "            # compute emission and state probabilities\n",
    "            emission = word_given_tag(words[key], tag)\n",
    "            emission_p = emission[0] / emission[1]\n",
    "            state_probability = emission_p * transition_p    \n",
    "            p.append(state_probability)\n",
    "\n",
    "        # Modifying the algorithm:\n",
    "        # If the word is not present in the train set then the state_probability\n",
    "        # for all the tags will be zero and hence the p list will contains only \n",
    "        # zero for all tags.\n",
    "        # Check whether the state_probability is zero for all the tags for not i.e. word not present\n",
    "        # If the sum of p is not zero i.e. the word is present in the train set\n",
    "        # then tag the word based on the most likely tag for the word\n",
    "        if sum(p) != 0:\n",
    "            pmax = max(p)\n",
    "            # getting state for which probability is maximum\n",
    "            state_max = T[p.index(pmax)] \n",
    "            state.append(state_max)\n",
    "          \n",
    "        # else if the word is not present in the corpus then use the 'lexicon' function\n",
    "        # to tag the word.\n",
    "        else:\n",
    "            state.append(lexicon(word))\n",
    "    return list(zip(words, state))"
   ]
  },
  {
   "cell_type": "markdown",
   "metadata": {
    "colab_type": "text",
    "id": "e6No0k4lv4If"
   },
   "source": [
    "#### Evaluating tagging accuracy of Viterbi algorithm modified using Lexicon Tagger"
   ]
  },
  {
   "cell_type": "code",
   "execution_count": null,
   "metadata": {
    "colab": {},
    "colab_type": "code",
    "id": "EWFIHfW4v4Ip"
   },
   "outputs": [],
   "source": [
    "# tagging the test sentences\n",
    "\n",
    "start = time.time()\n",
    "lexicon_tagged_seq = Viterbi_with_lexicon(validation_words)\n",
    "end = time.time()\n",
    "difference = end-start"
   ]
  },
  {
   "cell_type": "code",
   "execution_count": null,
   "metadata": {
    "colab": {
     "base_uri": "https://localhost:8080/",
     "height": 35
    },
    "colab_type": "code",
    "id": "x6KlxFYnv4I7",
    "outputId": "4ab8c888-46d6-4be1-80a7-d21fa0d6f79a"
   },
   "outputs": [],
   "source": [
    "print(\"Time taken in seconds: \", difference)"
   ]
  },
  {
   "cell_type": "code",
   "execution_count": null,
   "metadata": {
    "colab": {
     "base_uri": "https://localhost:8080/",
     "height": 35
    },
    "colab_type": "code",
    "id": "bUJJpXSiv4JL",
    "outputId": "214505df-c1fe-4dcd-9bb9-0e64fa623bf5"
   },
   "outputs": [],
   "source": [
    "# accuracy\n",
    "check = [i for i, j in zip(lexicon_tagged_seq, validation_tagged_words) if i == j]\n",
    "lexicon_accuracy = len(check)/len(lexicon_tagged_seq)\n",
    "round(lexicon_accuracy, 4)*100"
   ]
  },
  {
   "cell_type": "code",
   "execution_count": null,
   "metadata": {
    "colab": {},
    "colab_type": "code",
    "id": "nlT9lSrcv4JX"
   },
   "outputs": [],
   "source": [
    "# Find all the incorrect tagged words\n",
    "lexicon_incorrect_tagged_cases = [[validation_tagged_words[i-1],j] for i, j in enumerate(zip(lexicon_tagged_seq, validation_tagged_words)) if j[0]!=j[1]]"
   ]
  },
  {
   "cell_type": "code",
   "execution_count": null,
   "metadata": {
    "colab": {
     "base_uri": "https://localhost:8080/",
     "height": 1000
    },
    "colab_type": "code",
    "id": "nuWbMdpqv4Je",
    "outputId": "7068ff0b-a9e0-4ced-add3-9916cc0ab4c9"
   },
   "outputs": [],
   "source": [
    "# Print the incorrect tagged words\n",
    "lexicon_incorrect_tagged_cases"
   ]
  },
  {
   "cell_type": "markdown",
   "metadata": {
    "colab_type": "text",
    "id": "ctlnpkHq-pN6"
   },
   "source": [
    "#### 3. Laplace smoothing"
   ]
  },
  {
   "cell_type": "markdown",
   "metadata": {
    "colab_type": "text",
    "id": "3DIqkWH9_euR"
   },
   "source": [
    "If the word is not present in the training corpus then while calculating the emission probability would result in zero.\n",
    "\n",
    "Adding 0.0001 to the emission_p would help to overcome this problem. Adding such a small value wouldn't affect the overall performance of the algorithm. Also, as this value is getting added to all the tags for all the words while the emission_p is getting calculated we can expect a decent performance for all the words without significantly affecting it."
   ]
  },
  {
   "cell_type": "code",
   "execution_count": null,
   "metadata": {
    "colab": {},
    "colab_type": "code",
    "id": "K2HHRvsCoGQj"
   },
   "outputs": [],
   "source": [
    "# Viterbi Heuristic\n",
    "def Viterbi_with_laplace(words, train_bag = train_tagged_words):\n",
    "    state = []\n",
    "    T = list(set([pair[1] for pair in train_bag]))\n",
    "    \n",
    "    for key, word in enumerate(words):\n",
    "        #initialise list of probability column for a given observation\n",
    "        p = [] \n",
    "        for tag in T:\n",
    "            if key == 0:\n",
    "                transition_p = tags_df.loc['.', tag]\n",
    "            else:\n",
    "                transition_p = tags_df.loc[state[-1], tag]\n",
    "                \n",
    "            # compute emission and state probabilities\n",
    "            emission = word_given_tag(words[key], tag)\n",
    "            emission_p = emission[0] / emission[1]\n",
    "            \n",
    "            # While calculating the state_probability\n",
    "            # Add 0.0001 as the smoothing value\n",
    "            state_probability = (emission_p + 0.0001) * transition_p    \n",
    "            p.append(state_probability)\n",
    "            \n",
    "        pmax = max(p)\n",
    "        # getting state for which probability is maximum\n",
    "        state_max = T[p.index(pmax)] \n",
    "        state.append(state_max)\n",
    "    return list(zip(words, state))"
   ]
  },
  {
   "cell_type": "markdown",
   "metadata": {
    "colab_type": "text",
    "id": "-POSWi7JBgvf"
   },
   "source": [
    "#### Evaluating tagging accuracy of Viterbi algorithm modified using Laplace Smoothing"
   ]
  },
  {
   "cell_type": "code",
   "execution_count": null,
   "metadata": {
    "colab": {},
    "colab_type": "code",
    "id": "zgtoqZ7MwvE7"
   },
   "outputs": [],
   "source": [
    "# tagging the test sentences\n",
    "\n",
    "start = time.time()\n",
    "laplace_tagged_seq = Viterbi_with_laplace(validation_words)\n",
    "end = time.time()\n",
    "difference = end-start"
   ]
  },
  {
   "cell_type": "code",
   "execution_count": null,
   "metadata": {
    "colab": {
     "base_uri": "https://localhost:8080/",
     "height": 35
    },
    "colab_type": "code",
    "id": "9sbjvw53wvFT",
    "outputId": "c67db073-95c8-4f25-f8af-7ee65b67d982"
   },
   "outputs": [],
   "source": [
    "print(\"Time taken in seconds: \", difference)"
   ]
  },
  {
   "cell_type": "code",
   "execution_count": null,
   "metadata": {
    "colab": {
     "base_uri": "https://localhost:8080/",
     "height": 35
    },
    "colab_type": "code",
    "id": "bWv0fL6owvFj",
    "outputId": "6cd3cb91-7fba-4b35-e657-ea8d47d367c5"
   },
   "outputs": [],
   "source": [
    "# accuracy\n",
    "check = [i for i, j in zip(laplace_tagged_seq, validation_tagged_words) if i == j]\n",
    "laplace_accuracy = len(check)/len(laplace_tagged_seq)\n",
    "round(laplace_accuracy, 4)*100"
   ]
  },
  {
   "cell_type": "code",
   "execution_count": null,
   "metadata": {
    "colab": {},
    "colab_type": "code",
    "id": "1GfooQyLwvFu"
   },
   "outputs": [],
   "source": [
    "# Find all the incorrect tagged words\n",
    "laplace_incorrect_tagged_cases = [[validation_tagged_words[i-1],j] for i, j in enumerate(zip(laplace_tagged_seq, validation_tagged_words)) if j[0]!=j[1]]"
   ]
  },
  {
   "cell_type": "code",
   "execution_count": null,
   "metadata": {
    "colab": {
     "base_uri": "https://localhost:8080/",
     "height": 1000
    },
    "colab_type": "code",
    "id": "TSdb2n7nwvF0",
    "outputId": "37644af5-305e-46e4-b2e2-ec68c2fbf235"
   },
   "outputs": [],
   "source": [
    "# Print the incorrect tagged words\n",
    "laplace_incorrect_tagged_cases"
   ]
  },
  {
   "cell_type": "markdown",
   "metadata": {
    "colab_type": "text",
    "id": "hs9PaiTJezIT"
   },
   "source": [
    "### Compare the tagging accuracies of the modifications with the vanilla Viterbi algorithm"
   ]
  },
  {
   "cell_type": "code",
   "execution_count": null,
   "metadata": {
    "colab": {
     "base_uri": "https://localhost:8080/",
     "height": 342
    },
    "colab_type": "code",
    "id": "N0ABpA1PezIU",
    "outputId": "4c082696-c331-4859-eb7e-52352abeeb2a"
   },
   "outputs": [],
   "source": [
    "# Comparing the accuracy of the regex and lexicon based Viterbi Model with the Vanilla Viterbi Model\n",
    "fig = plt.figure(figsize=(8,5))\n",
    "sns.barplot(x=['vanilla_accuracy', 'regex_accuracy', 'lexicon_accuracy', 'laplace_accuracy'], y=[vanilla_accuracy, regex_accuracy, lexicon_accuracy, laplace_accuracy])"
   ]
  },
  {
   "cell_type": "code",
   "execution_count": null,
   "metadata": {
    "colab": {
     "base_uri": "https://localhost:8080/",
     "height": 90
    },
    "colab_type": "code",
    "id": "z3mor2esezIX",
    "outputId": "eb9827ec-d3ab-44b8-83b2-3493b90d39a8"
   },
   "outputs": [],
   "source": [
    "print('vanilla_accuracy: {0}\\nregex_accuracy: {1}\\nlexicon_accuracy: {2}\\nlaplace_accuracy: {3}'.format(round(vanilla_accuracy, 4)*100, \n",
    "                                                                                                         round(regex_accuracy, 4)*100,\n",
    "                                                                                                         round(lexicon_accuracy, 4)*100,\n",
    "                                                                                                         round(laplace_accuracy, 4)*100))"
   ]
  },
  {
   "cell_type": "markdown",
   "metadata": {
    "colab_type": "text",
    "id": "D-iSnV1sezIc"
   },
   "source": [
    "### List down cases which were incorrectly tagged by original POS tagger and got corrected by your modifications"
   ]
  },
  {
   "cell_type": "markdown",
   "metadata": {
    "colab_type": "text",
    "id": "SffL9F2AvhQf"
   },
   "source": [
    "#### 1. Vanilla Viterbi vs Viterbi Algorithm with RegexpTagger"
   ]
  },
  {
   "cell_type": "code",
   "execution_count": null,
   "metadata": {
    "colab": {
     "base_uri": "https://localhost:8080/",
     "height": 1000
    },
    "colab_type": "code",
    "id": "VM9hgaD-rW8B",
    "outputId": "1f6c7fa8-2564-48a8-8bbb-f08eb840f743"
   },
   "outputs": [],
   "source": [
    "# Comparing the cases where the words in the vanilla viterbi algorithm got incorrectly tagged\n",
    "# while using the viterbi algorithm with RegexpTagger for the unknown words got correctly tagged\n",
    "\n",
    "# Output is in the format:\n",
    "# ((vanilla viterbi), (viterbi with regexptagger), (correct test tagged words))\n",
    "\n",
    "[j for i, j in enumerate(zip(vanilla_tagged_seq, regex_tagged_seq, validation_tagged_words)) if j[0]!=j[1] and j[1]==j[2]]"
   ]
  },
  {
   "cell_type": "markdown",
   "metadata": {
    "colab_type": "text",
    "id": "7KyIjB9EvuEd"
   },
   "source": [
    "#### 2. Vanilla Viterbi vs Viterbi Algorithm with Lexicon"
   ]
  },
  {
   "cell_type": "code",
   "execution_count": null,
   "metadata": {
    "colab": {
     "base_uri": "https://localhost:8080/",
     "height": 1000
    },
    "colab_type": "code",
    "id": "KGoMBqBqvtYU",
    "outputId": "ef1b6336-2a7f-442b-8214-37a8c2eeb668"
   },
   "outputs": [],
   "source": [
    "# Comparing the cases where the words in the vanilla viterbi algorithm got incorrectly tagged\n",
    "# while using the viterbi algorithm with lexicon for the unknown words got correctly tagged\n",
    "\n",
    "# Output is in the format:\n",
    "# ((vanilla viterbi), (viterbi with lexicon), (correct test tagged words))\n",
    "\n",
    "[j for i, j in enumerate(zip(vanilla_tagged_seq, lexicon_tagged_seq, validation_tagged_words)) if j[0]!=j[1] and j[1]==j[2]]"
   ]
  },
  {
   "cell_type": "markdown",
   "metadata": {
    "colab_type": "text",
    "id": "WC8U51UFAwb8"
   },
   "source": [
    "#### 3. Vanilla Viterbi vs Viterbi Algorithm with Laplace Smoothing"
   ]
  },
  {
   "cell_type": "code",
   "execution_count": null,
   "metadata": {
    "colab": {
     "base_uri": "https://localhost:8080/",
     "height": 1000
    },
    "colab_type": "code",
    "id": "L_iopiTmAwcJ",
    "outputId": "493d3cfd-885c-4683-dcb8-7391fcb007b4"
   },
   "outputs": [],
   "source": [
    "# Comparing the cases where the words in the vanilla viterbi algorithm got incorrectly tagged\n",
    "# while using the viterbi algorithm with Laplace Smoothing for the unknown words got correctly tagged\n",
    "\n",
    "# Output is in the format:\n",
    "# ((vanilla viterbi), (viterbi with laplace smoothing), (correct test tagged words))\n",
    "\n",
    "[j for i, j in enumerate(zip(vanilla_tagged_seq, laplace_tagged_seq, validation_tagged_words)) if j[0]!=j[1] and j[1]==j[2]]"
   ]
  },
  {
   "cell_type": "markdown",
   "metadata": {},
   "source": [
    "### Conclusion:"
   ]
  },
  {
   "cell_type": "markdown",
   "metadata": {},
   "source": [
    "Viterbi Algorithm fails to tag words that were not present in the training corpus since the emission probabilities for those words are zero.\n",
    "\n",
    "To overcome this problem we modified the Viterbi Algorithm using three methonds:\n",
    "1. RegexpTagger\n",
    "2. Lexicon based\n",
    "3. Laplace Smoothing\n",
    "\n",
    "Out of the three Regex based showed the most improvement as we can identify words using the common suffixes for different tags but it still fails to tag words based on the context. After regex based viterbi algorithm lexicon performance was better than vanilla viterbi algorithm. In the end laplace smoothing showed some improvement but it was very very small."
   ]
  },
  {
   "cell_type": "code",
   "execution_count": null,
   "metadata": {},
   "outputs": [],
   "source": []
  },
  {
   "cell_type": "code",
   "execution_count": null,
   "metadata": {},
   "outputs": [],
   "source": []
  },
  {
   "cell_type": "code",
   "execution_count": null,
   "metadata": {},
   "outputs": [],
   "source": []
  },
  {
   "cell_type": "code",
   "execution_count": null,
   "metadata": {},
   "outputs": [],
   "source": []
  },
  {
   "cell_type": "code",
   "execution_count": null,
   "metadata": {},
   "outputs": [],
   "source": []
  }
 ],
 "metadata": {
  "accelerator": "GPU",
  "colab": {
   "collapsed_sections": [
    "QTj6q_uKVpag"
   ],
   "name": "Assignment_POS tagging using modified Viterbi.ipynb",
   "provenance": [],
   "version": "0.3.2"
  },
  "kernelspec": {
   "display_name": "Python 3",
   "language": "python",
   "name": "python3"
  },
  "language_info": {
   "codemirror_mode": {
    "name": "ipython",
    "version": 3
   },
   "file_extension": ".py",
   "mimetype": "text/x-python",
   "name": "python",
   "nbconvert_exporter": "python",
   "pygments_lexer": "ipython3",
   "version": "3.7.0"
  }
 },
 "nbformat": 4,
 "nbformat_minor": 2
}
